{
 "cells": [
  {
   "cell_type": "code",
   "execution_count": 37,
   "metadata": {},
   "outputs": [
    {
     "name": "stdout",
     "output_type": "stream",
     "text": [
      "[[1 2]\n",
      " [1 3]\n",
      " [2 4]\n",
      " [3 5]\n",
      " [4 3]]\n",
      "<class 'numpy.ndarray'>\n"
     ]
    }
   ],
   "source": [
    "import numpy as np\n",
    "data = np.loadtxt('test.txt', dtype='uint16')\n",
    "nodeId = np.unique(data)\n",
    "\n",
    "print(data)\n",
    "print(type(data))"
   ]
  },
  {
   "cell_type": "code",
   "execution_count": 38,
   "metadata": {},
   "outputs": [
    {
     "name": "stdout",
     "output_type": "stream",
     "text": [
      "[[1, 2, 3], [2, 1, 4], [3, 1, 4, 5], [4, 2, 3], [5, 3]]\n"
     ]
    }
   ],
   "source": [
    "#Make Adjacency List\n",
    "#*first element is the node of origin\n",
    "nrow = len(data)\n",
    "adj_list = []\n",
    "\n",
    "for n in nodeId:\n",
    "    adj = []\n",
    "    for i in range(nrow):\n",
    "        if data[i, 0] == n:\n",
    "            adj.append(data[i, 1])\n",
    "        if data[i, 1] == n:\n",
    "            adj.append(data[i, 0])\n",
    "    adj = list(set(adj))\n",
    "    adj.insert(0, n)\n",
    "    adj_list.append(adj)\n",
    "print(adj_list)"
   ]
  },
  {
   "cell_type": "code",
   "execution_count": 42,
   "metadata": {},
   "outputs": [
    {
     "name": "stdout",
     "output_type": "stream",
     "text": [
      "[[1, 1, 0, 'a', 1, [], [2, 3]], [2, 2, 0, 'a', 1, [], [1, 4]], [3, 3, 0, 'a', 1, [], [1, 4, 5]], [4, 4, 0, 'a', 1, [], [2, 3]], [5, 5, 0, 'a', 1, [], [3]]]\n"
     ]
    }
   ],
   "source": [
    "#Make tuple for each node\n",
    "class tuples():\n",
    "    def __init__(self, targetId, sourceId, distance, status, weight, pathInfo, adjList):\n",
    "        self.targetId = targetId\n",
    "        self.sourceId = sourceId\n",
    "        self.distance = distance\n",
    "        self.status = status\n",
    "        self.weight = weight\n",
    "        self.pathInfo = pathInfo\n",
    "        self.adjList = adjList\n",
    "    \n",
    "network = []\n",
    "for n in nodeId:\n",
    "    v = tuples(targetId = n, sourceId = n, distance = 0, status = 'a', weight = 1, pathInfo = [], adjList = [])\n",
    "    for i in range(len(adj_list)):\n",
    "        if adj_list[i][0] == n:\n",
    "            v.adjList = adj_list[i][1:len(adj_list[i])]\n",
    "            break\n",
    "    network.append([v.targetId, v.sourceId, v.distance, v.status, v.weight, v.pathInfo, v.adjList])\n",
    "print(network)"
   ]
  },
  {
   "cell_type": "code",
   "execution_count": 43,
   "metadata": {},
   "outputs": [
    {
     "name": "stdout",
     "output_type": "stream",
     "text": [
      "[1, 1, 0, 'a', 1, [], [2, 3]]\n",
      "[2, 2, 0, 'a', 1, [], [1, 4]]\n",
      "[3, 3, 0, 'a', 1, [], [1, 4, 5]]\n",
      "[4, 4, 0, 'a', 1, [], [2, 3]]\n",
      "[5, 5, 0, 'a', 1, [], [3]]\n"
     ]
    }
   ],
   "source": [
    "for i in range(len(network)):\n",
    "    print(network[i])"
   ]
  },
  {
   "cell_type": "code",
   "execution_count": 71,
   "metadata": {},
   "outputs": [
    {
     "ename": "SyntaxError",
     "evalue": "invalid syntax (<ipython-input-71-01840de18fa8>, line 8)",
     "output_type": "error",
     "traceback": [
      "\u001b[1;36m  File \u001b[1;32m\"<ipython-input-71-01840de18fa8>\"\u001b[1;36m, line \u001b[1;32m8\u001b[0m\n\u001b[1;33m    for  in :\u001b[0m\n\u001b[1;37m          ^\u001b[0m\n\u001b[1;31mSyntaxError\u001b[0m\u001b[1;31m:\u001b[0m invalid syntax\n"
     ]
    }
   ],
   "source": [
    "#Stage 1\n",
    "\n",
    "def new_tuple(targetId, sourceId, distance, status, weight, pathInfo, adjList):\n",
    "    new_tup = new_tuple(targetId, sourceId, distance, status, weight, pathInfo, adjList)\n",
    "    return new_tup\n",
    "\n",
    "#Stage1_Map\n",
    "for  in :\n",
    "    for in :\n",
    "        def map(v.targetId, v):\n",
    "            if v.status == 'a':\n",
    "                v.status = 'i'\n",
    "                v.distance += 1\n",
    "                v.pathInfo.append(v.targetId)\n",
    "                return (v.targetId, v)\n",
    "                for i in range(len(adjList))\n",
    "                    new_tuple(targetId = v.adjList[i])\n",
    "                    v.targetId = ADJ[i]\n",
    "                    v.status = 'a'\n",
    "                    v.adjList = []\n",
    "                    return (v.targetId, v)\n",
    "            else return (v.targetId, v)\n",
    "                    "
   ]
  },
  {
   "cell_type": "code",
   "execution_count": 27,
   "metadata": {},
   "outputs": [
    {
     "data": {
      "image/png": "[encoded data removed]",
      "text/plain": [
       "<Figure size 432x288 with 1 Axes>"
      ]
     },
     "metadata": {},
     "output_type": "display_data"
    }
   ],
   "source": [
    "#Visualisation of the graph\n",
    "#This is just for reference for now\n",
    "import pandas\n",
    "import networkx as nx\n",
    "import matplotlib.pyplot as plt\n",
    "\n",
    "def draw_graph(graph):\n",
    "\n",
    "    # extract nodes from graph\n",
    "    nodes = set([n1 for n1, n2 in graph] + [n2 for n1, n2 in graph])\n",
    "\n",
    "    # create networkx graph\n",
    "    G=nx.Graph()\n",
    "\n",
    "    # add nodes\n",
    "    for node in nodes:\n",
    "        G.add_node(node)\n",
    "\n",
    "    # add edges\n",
    "    for edge in graph:\n",
    "        G.add_edge(edge[0], edge[1])\n",
    "\n",
    "    # draw graph\n",
    "    pos = nx.shell_layout(G)\n",
    "    nx.draw(G, pos)\n",
    "\n",
    "    # show graph\n",
    "    plt.show()\n",
    "    \n",
    "draw_graph(data)\n"
   ]
  },
  {
   "cell_type": "code",
   "execution_count": null,
   "metadata": {},
   "outputs": [],
   "source": []
  },
  {
   "cell_type": "code",
   "execution_count": null,
   "metadata": {},
   "outputs": [],
   "source": []
  }
 ],
 "metadata": {
  "kernelspec": {
   "display_name": "Python 3",
   "language": "python",
   "name": "python3"
  },
  "language_info": {
   "codemirror_mode": {
    "name": "ipython",
    "version": 3
   },
   "file_extension": ".py",
   "mimetype": "text/x-python",
   "name": "python",
   "nbconvert_exporter": "python",
   "pygments_lexer": "ipython3",
   "version": "3.7.0"
  }
 },
 "nbformat": 4,
 "nbformat_minor": 2
}
